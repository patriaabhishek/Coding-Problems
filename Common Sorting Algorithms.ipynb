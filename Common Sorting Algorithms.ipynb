{
 "cells": [
  {
   "cell_type": "code",
   "execution_count": 1,
   "metadata": {},
   "outputs": [],
   "source": [
    "#Insertion Sort\n",
    "\n",
    "def insertion_sort(unsorted_arr):\n",
    "    #Create a hard copy of the original array\n",
    "    arr = unsorted_arr.copy()\n",
    "    #print(arr)\n",
    "    for i in range(1, len(arr)):\n",
    "        \n",
    "        #Defining the element to be compared to the sublist\n",
    "        key = arr[i]\n",
    "        \n",
    "        #Looping on the subarray to the left of the element chosen as key\n",
    "        for j in range(i-1, -1, -1):\n",
    "        \n",
    "            #If the key is smaller than an element in the subarray then insert the key there \n",
    "            #and choose the smaller element as the new key \n",
    "            if (key < arr[j]):\n",
    "                arr[j], arr[j+1] = arr[j+1], arr[j]\n",
    "                key = arr[j]\n",
    "    return arr"
   ]
  },
  {
   "cell_type": "code",
   "execution_count": 2,
   "metadata": {},
   "outputs": [
    {
     "name": "stdout",
     "output_type": "stream",
     "text": [
      "Unsorted array:  [25, 17, 31, 13, 2, 4, 10, 21, 1, 2, 2, 2]\n",
      "Sorted array:  [1, 2, 2, 2, 2, 4, 10, 13, 17, 21, 25, 31]\n"
     ]
    }
   ],
   "source": [
    "test_list = [25, 17, 31, 13, 2, 4, 10, 21, 1, 2, 2, 2]\n",
    "print('Unsorted array: ', test_list)\n",
    "sorted_list = insertion_sort(test_list)\n",
    "print('Sorted array: ', sorted_list)"
   ]
  },
  {
   "cell_type": "code",
   "execution_count": 3,
   "metadata": {},
   "outputs": [],
   "source": [
    "#Merge Sort\n",
    "\n",
    "def merge_sort(array):\n",
    "    if (len(array)>1):\n",
    "        #print('\\nIteration\\n_________')\n",
    "        \n",
    "        #Defining the midpoint of the array and breaking it into left and right parts\n",
    "        mid = len(array)//2\n",
    "        left = array[:mid]\n",
    "        right = array[mid:]\n",
    "        #print('left', left)\n",
    "        #print('right', right)\n",
    "        \n",
    "        #Calling the merge sort again on the left and right segements of the array\n",
    "        merge_sort(left)\n",
    "        merge_sort(right)\n",
    "        \n",
    "        #print('\\nStart Merge\\n___________')        \n",
    "        #print('before_left_merge', left)\n",
    "        #print('before_right_merge', right)\n",
    "        \n",
    "        i, j, k = 0, 0, 0\n",
    "        #The loop checks for the smaller element at each step and assigns the lower element to the temp list\n",
    "        while (i < len(left)) and (j < len(right)):\n",
    "            if (left[i] < right[j]):\n",
    "                array[k] = left[i]\n",
    "                i += 1\n",
    "            else:\n",
    "                array[k] = right[j]\n",
    "                j += 1\n",
    "            k += 1\n",
    "        #Checking for the remaining elements in both left and right array\n",
    "        while (i < len(left)):\n",
    "            array[k] = left[i]\n",
    "            i += 1\n",
    "            k += 1\n",
    "\n",
    "        while (j < len(right)):\n",
    "            array[k] = right[j]\n",
    "            j += 1\n",
    "            k += 1        "
   ]
  },
  {
   "cell_type": "code",
   "execution_count": 4,
   "metadata": {},
   "outputs": [
    {
     "name": "stdout",
     "output_type": "stream",
     "text": [
      "Unsorted array:  [25, 17, 31, 13, 2, 4, 10, 21, 1, 2, 2, 2]\n",
      "Sorted array:  [1, 2, 2, 2, 2, 4, 10, 13, 17, 21, 25, 31]\n"
     ]
    }
   ],
   "source": [
    "test_list = [25, 17, 31, 13, 2, 4, 10, 21, 1, 2, 2, 2]\n",
    "print('Unsorted array: ', test_list)\n",
    "merge_sort(test_list)\n",
    "print('Sorted array: ', test_list)"
   ]
  },
  {
   "cell_type": "code",
   "execution_count": 5,
   "metadata": {},
   "outputs": [],
   "source": [
    "#Quick Sort   \n",
    "\n",
    "def quick_sort_partition(array, start_index, end_index):\n",
    "    #Selecting pivot as the last index of our array and partitioning index as the starting index of the array\n",
    "    pivot = end_index\n",
    "    partition_index = start_index\n",
    "    \n",
    "    #Looping through the array and swapping the partitioning element with the element less than the pivot element\n",
    "    #and increasing the partitioning index by one\n",
    "    for i in range(start_index, end_index):\n",
    "        if array[i] < array[pivot]:\n",
    "            array[partition_index], array[i] = array[i], array[partition_index]\n",
    "            partition_index += 1\n",
    "            \n",
    "    #Swapping the pivot with the final partitioning element\n",
    "    array[partition_index], array[pivot] = array[pivot], array[partition_index]\n",
    "    return partition_index\n",
    "    \n",
    "def quick_sort(array, start_index, end_index):\n",
    "    if start_index < end_index:\n",
    "        partition_index = quick_sort_partition(array, start_index, end_index)\n",
    "#         print('partition index: ', array[partition_index])\n",
    "#         print('partitioned array: ', array)\n",
    "        quick_sort(array, start_index, partition_index-1)\n",
    "        quick_sort(array, partition_index+1, end_index)"
   ]
  },
  {
   "cell_type": "code",
   "execution_count": 6,
   "metadata": {},
   "outputs": [
    {
     "name": "stdout",
     "output_type": "stream",
     "text": [
      "Unsorted array:  [25, 17, 31, 13, 2, 4, 10, 21, 1, 2, 2, 2]\n",
      "Sorted array:  [1, 2, 2, 2, 2, 4, 10, 13, 17, 21, 25, 31]\n"
     ]
    }
   ],
   "source": [
    "test_list = [25, 17, 31, 13, 2, 4, 10, 21, 1, 2, 2, 2]\n",
    "print('Unsorted array: ', test_list)\n",
    "quick_sort(test_list, 0, len(test_list)-1)\n",
    "print('Sorted array: ', test_list)"
   ]
  },
  {
   "cell_type": "code",
   "execution_count": 7,
   "metadata": {},
   "outputs": [],
   "source": [
    "#Selection Sort\n",
    "\n",
    "def selection_sort(array):\n",
    "    \n",
    "    for i in range(0, len(array)-1):\n",
    "        #Defining the minimum index as the first element of the subarray\n",
    "        min_index = i+1\n",
    "        #print(min_index)\n",
    "        #Looping throught the subarray to find the index of the minimum element\n",
    "        for j in range(i+1, len(array)):\n",
    "            if array[j] < array[min_index]:\n",
    "                min_index = j\n",
    "        #print(min_index, array[min_index])\n",
    "        #If the minimum element in the subarray is less that the element just before the position from where the subarray starts\n",
    "        #then swap the elements\n",
    "        if array[min_index] < array[i]:\n",
    "            array[i], array[min_index] = array[min_index], array[i]\n",
    "        #print(array)"
   ]
  },
  {
   "cell_type": "code",
   "execution_count": 8,
   "metadata": {},
   "outputs": [
    {
     "name": "stdout",
     "output_type": "stream",
     "text": [
      "Unsorted array:  [25, 17, 31, 13, 2, 4, 10, 21, 1, 2, 2, 2]\n",
      "Sorted array:  [1, 2, 2, 2, 2, 4, 10, 13, 17, 21, 25, 31]\n"
     ]
    }
   ],
   "source": [
    "test_list = [25, 17, 31, 13, 2, 4, 10, 21, 1, 2, 2, 2]\n",
    "print('Unsorted array: ', test_list)\n",
    "selection_sort(test_list)\n",
    "print('Sorted array: ', test_list)"
   ]
  },
  {
   "cell_type": "code",
   "execution_count": 9,
   "metadata": {},
   "outputs": [],
   "source": [
    "#Bubble Sort\n",
    "\n",
    "def bubble_sort(array):\n",
    "    for i in range(len(array), 0, -1):\n",
    "        swap_flag = 0 \n",
    "        for j in range(i-1):\n",
    "            if array[j] > array[j+1]:\n",
    "                array[j], array[j+1] = array[j+1], array[j]\n",
    "                swap_flag = 1\n",
    "        if swap_flag == 0:\n",
    "            break"
   ]
  },
  {
   "cell_type": "code",
   "execution_count": 10,
   "metadata": {},
   "outputs": [
    {
     "name": "stdout",
     "output_type": "stream",
     "text": [
      "Unsorted array:  [25, 17, 31, 13, 2, 4, 10, 21, 1, 2, 2, 2]\n",
      "Sorted array:  [1, 2, 2, 2, 2, 4, 10, 13, 17, 21, 25, 31]\n"
     ]
    }
   ],
   "source": [
    "test_list = [25, 17, 31, 13, 2, 4, 10, 21, 1, 2, 2, 2]\n",
    "print('Unsorted array: ', test_list)\n",
    "bubble_sort(test_list)\n",
    "print('Sorted array: ', test_list)"
   ]
  }
 ],
 "metadata": {
  "kernelspec": {
   "display_name": "Python 3",
   "language": "python",
   "name": "python3"
  },
  "language_info": {
   "codemirror_mode": {
    "name": "ipython",
    "version": 3
   },
   "file_extension": ".py",
   "mimetype": "text/x-python",
   "name": "python",
   "nbconvert_exporter": "python",
   "pygments_lexer": "ipython3",
   "version": "3.7.5"
  }
 },
 "nbformat": 4,
 "nbformat_minor": 2
}

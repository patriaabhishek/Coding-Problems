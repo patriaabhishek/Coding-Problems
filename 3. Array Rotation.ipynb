{
 "cells": [
  {
   "cell_type": "code",
   "execution_count": 1,
   "metadata": {},
   "outputs": [],
   "source": [
    "def rotate_array_by_slicing(array, rotate_by):\n",
    "    #Reducing the rotate_by such that it is less than the length of the array to be rotated\n",
    "    rotate_by = rotate_by%len(array)\n",
    "    #Slicing the array in 2 parts such that the left and right are the parts of the new rotated array\n",
    "    left = array[rotate_by:]\n",
    "    right = array[:rotate_by]\n",
    "    ret = left + right\n",
    "    return ret"
   ]
  },
  {
   "cell_type": "code",
   "execution_count": 2,
   "metadata": {},
   "outputs": [],
   "source": [
    "def rotate_array_by_appending(array, rotate_by):\n",
    "    ret = []\n",
    "    for i in range(len(array)):\n",
    "        #Reducing the rotate_by at each iteration so that it does not exceed the array length\n",
    "        ret.append(array[(i + rotate_by)%len(array)])\n",
    "    return ret"
   ]
  },
  {
   "cell_type": "code",
   "execution_count": 3,
   "metadata": {},
   "outputs": [],
   "source": [
    "#Note that this implementation is an inplace rotation\n",
    "\n",
    "def rotate_array_by_index(array, rotate_by):\n",
    "    #Reducing the rotate_by such that it is less than the length of the array to be rotated\n",
    "    rotate_by %= len(array)\n",
    "    #If not the base case then recursively call the function again\n",
    "    #The base case here is the rotation by one element\n",
    "    if rotate_by > 1:\n",
    "        rotate_array_by_index(array, rotate_by-1)\n",
    "    #Executing the base case i.e rotation by one element\n",
    "    temp = array[0]\n",
    "    for i in range(len(array)-1):\n",
    "        array[i] = array[i+1]\n",
    "    array[-1] = temp"
   ]
  },
  {
   "cell_type": "code",
   "execution_count": 4,
   "metadata": {},
   "outputs": [],
   "source": [
    "test_list = [25, 17, 31, 13, 2, 4, 10, 21, 1, 2, 2, 2]"
   ]
  },
  {
   "cell_type": "code",
   "execution_count": 5,
   "metadata": {},
   "outputs": [
    {
     "data": {
      "text/plain": [
       "[4, 10, 21, 1, 2, 2, 2, 25, 17, 31, 13, 2]"
      ]
     },
     "execution_count": 5,
     "metadata": {},
     "output_type": "execute_result"
    }
   ],
   "source": [
    "rotate_array_by_slicing(test_list, 17)"
   ]
  },
  {
   "cell_type": "code",
   "execution_count": 6,
   "metadata": {},
   "outputs": [
    {
     "data": {
      "text/plain": [
       "[4, 10, 21, 1, 2, 2, 2, 25, 17, 31, 13, 2]"
      ]
     },
     "execution_count": 6,
     "metadata": {},
     "output_type": "execute_result"
    }
   ],
   "source": [
    "rotate_array_by_appending(test_list, 17)"
   ]
  },
  {
   "cell_type": "code",
   "execution_count": 7,
   "metadata": {},
   "outputs": [
    {
     "data": {
      "text/plain": [
       "[4, 10, 21, 1, 2, 2, 2, 25, 17, 31, 13, 2]"
      ]
     },
     "execution_count": 7,
     "metadata": {},
     "output_type": "execute_result"
    }
   ],
   "source": [
    "test_list = [25, 17, 31, 13, 2, 4, 10, 21, 1, 2, 2, 2]\n",
    "rotate_array_by_index(test_list, 17)\n",
    "test_list"
   ]
  }
 ],
 "metadata": {
  "kernelspec": {
   "display_name": "Python 3",
   "language": "python",
   "name": "python3"
  },
  "language_info": {
   "codemirror_mode": {
    "name": "ipython",
    "version": 3
   },
   "file_extension": ".py",
   "mimetype": "text/x-python",
   "name": "python",
   "nbconvert_exporter": "python",
   "pygments_lexer": "ipython3",
   "version": "3.7.5"
  }
 },
 "nbformat": 4,
 "nbformat_minor": 2
}
